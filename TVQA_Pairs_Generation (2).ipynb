{
  "nbformat": 4,
  "nbformat_minor": 0,
  "metadata": {
    "colab": {
      "provenance": []
    },
    "kernelspec": {
      "name": "python3",
      "display_name": "Python 3"
    },
    "language_info": {
      "name": "python"
    }
  },
  "cells": [
    {
      "cell_type": "code",
      "execution_count": null,
      "metadata": {
        "id": "Q1VcmPrJelif"
      },
      "outputs": [],
      "source": []
    },
    {
      "cell_type": "code",
      "execution_count": null,
      "metadata": {
        "colab": {
          "base_uri": "https://localhost:8080/",
          "height": 317
        },
        "id": "DRxyylJMOElR",
        "outputId": "6b6230a5-9a5a-4e11-9227-f3802ea27cb1"
      },
      "outputs": [
        {
          "output_type": "execute_result",
          "data": {
            "text/plain": [
              "                               a0                                  a1  \\\n",
              "122036                  A Marine.                          A Stewart.   \n",
              "122037  House went to see Foreman            House went to see WIlson   \n",
              "122038    Phoebe's hair was down.  Phoebe's hair was in a half up do.   \n",
              "\n",
              "                                    a2  \\\n",
              "122036                           House   \n",
              "122037         House went to see Cuddy   \n",
              "122038  Phoebe's hair was up in a bun.   \n",
              "\n",
              "                                                 a3  \\\n",
              "122036                                 The teacher.   \n",
              "122037                     House went to see Chase    \n",
              "122038  Phoebe's hair was in a single french braid.   \n",
              "\n",
              "                                    a4  answer_idx  \\\n",
              "122036                          Wilson           0   \n",
              "122037   House didn't go to see anyone           2   \n",
              "122038  Phoebe's hair was up in a hat.           1   \n",
              "\n",
              "                                                        q     qid   show_name  \\\n",
              "122036  Who was sitting in the chair to Mr. Dryden's f...  122036  House M.D.   \n",
              "122037  Where did House go to after he left Lucas on t...  122037  House M.D.   \n",
              "122038  How was Phoebe's hair done when she was sittin...  122038     Friends   \n",
              "\n",
              "              ts                      vid_name  \n",
              "122036    0-7.65    house_s07e13_seg02_clip_07  \n",
              "122037  55.48-63    house_s05e02_seg02_clip_20  \n",
              "122038   0-13.33  friends_s05e04_seg02_clip_17  "
            ],
            "text/html": [
              "\n",
              "  <div id=\"df-72658ba2-2b93-40ab-bd54-d6b75f2acd00\" class=\"colab-df-container\">\n",
              "    <div>\n",
              "<style scoped>\n",
              "    .dataframe tbody tr th:only-of-type {\n",
              "        vertical-align: middle;\n",
              "    }\n",
              "\n",
              "    .dataframe tbody tr th {\n",
              "        vertical-align: top;\n",
              "    }\n",
              "\n",
              "    .dataframe thead th {\n",
              "        text-align: right;\n",
              "    }\n",
              "</style>\n",
              "<table border=\"1\" class=\"dataframe\">\n",
              "  <thead>\n",
              "    <tr style=\"text-align: right;\">\n",
              "      <th></th>\n",
              "      <th>a0</th>\n",
              "      <th>a1</th>\n",
              "      <th>a2</th>\n",
              "      <th>a3</th>\n",
              "      <th>a4</th>\n",
              "      <th>answer_idx</th>\n",
              "      <th>q</th>\n",
              "      <th>qid</th>\n",
              "      <th>show_name</th>\n",
              "      <th>ts</th>\n",
              "      <th>vid_name</th>\n",
              "    </tr>\n",
              "  </thead>\n",
              "  <tbody>\n",
              "    <tr>\n",
              "      <th>122036</th>\n",
              "      <td>A Marine.</td>\n",
              "      <td>A Stewart.</td>\n",
              "      <td>House</td>\n",
              "      <td>The teacher.</td>\n",
              "      <td>Wilson</td>\n",
              "      <td>0</td>\n",
              "      <td>Who was sitting in the chair to Mr. Dryden's f...</td>\n",
              "      <td>122036</td>\n",
              "      <td>House M.D.</td>\n",
              "      <td>0-7.65</td>\n",
              "      <td>house_s07e13_seg02_clip_07</td>\n",
              "    </tr>\n",
              "    <tr>\n",
              "      <th>122037</th>\n",
              "      <td>House went to see Foreman</td>\n",
              "      <td>House went to see WIlson</td>\n",
              "      <td>House went to see Cuddy</td>\n",
              "      <td>House went to see Chase</td>\n",
              "      <td>House didn't go to see anyone</td>\n",
              "      <td>2</td>\n",
              "      <td>Where did House go to after he left Lucas on t...</td>\n",
              "      <td>122037</td>\n",
              "      <td>House M.D.</td>\n",
              "      <td>55.48-63</td>\n",
              "      <td>house_s05e02_seg02_clip_20</td>\n",
              "    </tr>\n",
              "    <tr>\n",
              "      <th>122038</th>\n",
              "      <td>Phoebe's hair was down.</td>\n",
              "      <td>Phoebe's hair was in a half up do.</td>\n",
              "      <td>Phoebe's hair was up in a bun.</td>\n",
              "      <td>Phoebe's hair was in a single french braid.</td>\n",
              "      <td>Phoebe's hair was up in a hat.</td>\n",
              "      <td>1</td>\n",
              "      <td>How was Phoebe's hair done when she was sittin...</td>\n",
              "      <td>122038</td>\n",
              "      <td>Friends</td>\n",
              "      <td>0-13.33</td>\n",
              "      <td>friends_s05e04_seg02_clip_17</td>\n",
              "    </tr>\n",
              "  </tbody>\n",
              "</table>\n",
              "</div>\n",
              "    <div class=\"colab-df-buttons\">\n",
              "\n",
              "  <div class=\"colab-df-container\">\n",
              "    <button class=\"colab-df-convert\" onclick=\"convertToInteractive('df-72658ba2-2b93-40ab-bd54-d6b75f2acd00')\"\n",
              "            title=\"Convert this dataframe to an interactive table.\"\n",
              "            style=\"display:none;\">\n",
              "\n",
              "  <svg xmlns=\"http://www.w3.org/2000/svg\" height=\"24px\" viewBox=\"0 -960 960 960\">\n",
              "    <path d=\"M120-120v-720h720v720H120Zm60-500h600v-160H180v160Zm220 220h160v-160H400v160Zm0 220h160v-160H400v160ZM180-400h160v-160H180v160Zm440 0h160v-160H620v160ZM180-180h160v-160H180v160Zm440 0h160v-160H620v160Z\"/>\n",
              "  </svg>\n",
              "    </button>\n",
              "\n",
              "  <style>\n",
              "    .colab-df-container {\n",
              "      display:flex;\n",
              "      gap: 12px;\n",
              "    }\n",
              "\n",
              "    .colab-df-convert {\n",
              "      background-color: #E8F0FE;\n",
              "      border: none;\n",
              "      border-radius: 50%;\n",
              "      cursor: pointer;\n",
              "      display: none;\n",
              "      fill: #1967D2;\n",
              "      height: 32px;\n",
              "      padding: 0 0 0 0;\n",
              "      width: 32px;\n",
              "    }\n",
              "\n",
              "    .colab-df-convert:hover {\n",
              "      background-color: #E2EBFA;\n",
              "      box-shadow: 0px 1px 2px rgba(60, 64, 67, 0.3), 0px 1px 3px 1px rgba(60, 64, 67, 0.15);\n",
              "      fill: #174EA6;\n",
              "    }\n",
              "\n",
              "    .colab-df-buttons div {\n",
              "      margin-bottom: 4px;\n",
              "    }\n",
              "\n",
              "    [theme=dark] .colab-df-convert {\n",
              "      background-color: #3B4455;\n",
              "      fill: #D2E3FC;\n",
              "    }\n",
              "\n",
              "    [theme=dark] .colab-df-convert:hover {\n",
              "      background-color: #434B5C;\n",
              "      box-shadow: 0px 1px 3px 1px rgba(0, 0, 0, 0.15);\n",
              "      filter: drop-shadow(0px 1px 2px rgba(0, 0, 0, 0.3));\n",
              "      fill: #FFFFFF;\n",
              "    }\n",
              "  </style>\n",
              "\n",
              "    <script>\n",
              "      const buttonEl =\n",
              "        document.querySelector('#df-72658ba2-2b93-40ab-bd54-d6b75f2acd00 button.colab-df-convert');\n",
              "      buttonEl.style.display =\n",
              "        google.colab.kernel.accessAllowed ? 'block' : 'none';\n",
              "\n",
              "      async function convertToInteractive(key) {\n",
              "        const element = document.querySelector('#df-72658ba2-2b93-40ab-bd54-d6b75f2acd00');\n",
              "        const dataTable =\n",
              "          await google.colab.kernel.invokeFunction('convertToInteractive',\n",
              "                                                    [key], {});\n",
              "        if (!dataTable) return;\n",
              "\n",
              "        const docLinkHtml = 'Like what you see? Visit the ' +\n",
              "          '<a target=\"_blank\" href=https://colab.research.google.com/notebooks/data_table.ipynb>data table notebook</a>'\n",
              "          + ' to learn more about interactive tables.';\n",
              "        element.innerHTML = '';\n",
              "        dataTable['output_type'] = 'display_data';\n",
              "        await google.colab.output.renderOutput(dataTable, element);\n",
              "        const docLink = document.createElement('div');\n",
              "        docLink.innerHTML = docLinkHtml;\n",
              "        element.appendChild(docLink);\n",
              "      }\n",
              "    </script>\n",
              "  </div>\n",
              "\n",
              "\n",
              "<div id=\"df-2b79f923-4888-450f-827e-3f243ee3cd8f\">\n",
              "  <button class=\"colab-df-quickchart\" onclick=\"quickchart('df-2b79f923-4888-450f-827e-3f243ee3cd8f')\"\n",
              "            title=\"Suggest charts\"\n",
              "            style=\"display:none;\">\n",
              "\n",
              "<svg xmlns=\"http://www.w3.org/2000/svg\" height=\"24px\"viewBox=\"0 0 24 24\"\n",
              "     width=\"24px\">\n",
              "    <g>\n",
              "        <path d=\"M19 3H5c-1.1 0-2 .9-2 2v14c0 1.1.9 2 2 2h14c1.1 0 2-.9 2-2V5c0-1.1-.9-2-2-2zM9 17H7v-7h2v7zm4 0h-2V7h2v10zm4 0h-2v-4h2v4z\"/>\n",
              "    </g>\n",
              "</svg>\n",
              "  </button>\n",
              "\n",
              "<style>\n",
              "  .colab-df-quickchart {\n",
              "      --bg-color: #E8F0FE;\n",
              "      --fill-color: #1967D2;\n",
              "      --hover-bg-color: #E2EBFA;\n",
              "      --hover-fill-color: #174EA6;\n",
              "      --disabled-fill-color: #AAA;\n",
              "      --disabled-bg-color: #DDD;\n",
              "  }\n",
              "\n",
              "  [theme=dark] .colab-df-quickchart {\n",
              "      --bg-color: #3B4455;\n",
              "      --fill-color: #D2E3FC;\n",
              "      --hover-bg-color: #434B5C;\n",
              "      --hover-fill-color: #FFFFFF;\n",
              "      --disabled-bg-color: #3B4455;\n",
              "      --disabled-fill-color: #666;\n",
              "  }\n",
              "\n",
              "  .colab-df-quickchart {\n",
              "    background-color: var(--bg-color);\n",
              "    border: none;\n",
              "    border-radius: 50%;\n",
              "    cursor: pointer;\n",
              "    display: none;\n",
              "    fill: var(--fill-color);\n",
              "    height: 32px;\n",
              "    padding: 0;\n",
              "    width: 32px;\n",
              "  }\n",
              "\n",
              "  .colab-df-quickchart:hover {\n",
              "    background-color: var(--hover-bg-color);\n",
              "    box-shadow: 0 1px 2px rgba(60, 64, 67, 0.3), 0 1px 3px 1px rgba(60, 64, 67, 0.15);\n",
              "    fill: var(--button-hover-fill-color);\n",
              "  }\n",
              "\n",
              "  .colab-df-quickchart-complete:disabled,\n",
              "  .colab-df-quickchart-complete:disabled:hover {\n",
              "    background-color: var(--disabled-bg-color);\n",
              "    fill: var(--disabled-fill-color);\n",
              "    box-shadow: none;\n",
              "  }\n",
              "\n",
              "  .colab-df-spinner {\n",
              "    border: 2px solid var(--fill-color);\n",
              "    border-color: transparent;\n",
              "    border-bottom-color: var(--fill-color);\n",
              "    animation:\n",
              "      spin 1s steps(1) infinite;\n",
              "  }\n",
              "\n",
              "  @keyframes spin {\n",
              "    0% {\n",
              "      border-color: transparent;\n",
              "      border-bottom-color: var(--fill-color);\n",
              "      border-left-color: var(--fill-color);\n",
              "    }\n",
              "    20% {\n",
              "      border-color: transparent;\n",
              "      border-left-color: var(--fill-color);\n",
              "      border-top-color: var(--fill-color);\n",
              "    }\n",
              "    30% {\n",
              "      border-color: transparent;\n",
              "      border-left-color: var(--fill-color);\n",
              "      border-top-color: var(--fill-color);\n",
              "      border-right-color: var(--fill-color);\n",
              "    }\n",
              "    40% {\n",
              "      border-color: transparent;\n",
              "      border-right-color: var(--fill-color);\n",
              "      border-top-color: var(--fill-color);\n",
              "    }\n",
              "    60% {\n",
              "      border-color: transparent;\n",
              "      border-right-color: var(--fill-color);\n",
              "    }\n",
              "    80% {\n",
              "      border-color: transparent;\n",
              "      border-right-color: var(--fill-color);\n",
              "      border-bottom-color: var(--fill-color);\n",
              "    }\n",
              "    90% {\n",
              "      border-color: transparent;\n",
              "      border-bottom-color: var(--fill-color);\n",
              "    }\n",
              "  }\n",
              "</style>\n",
              "\n",
              "  <script>\n",
              "    async function quickchart(key) {\n",
              "      const quickchartButtonEl =\n",
              "        document.querySelector('#' + key + ' button');\n",
              "      quickchartButtonEl.disabled = true;  // To prevent multiple clicks.\n",
              "      quickchartButtonEl.classList.add('colab-df-spinner');\n",
              "      try {\n",
              "        const charts = await google.colab.kernel.invokeFunction(\n",
              "            'suggestCharts', [key], {});\n",
              "      } catch (error) {\n",
              "        console.error('Error during call to suggestCharts:', error);\n",
              "      }\n",
              "      quickchartButtonEl.classList.remove('colab-df-spinner');\n",
              "      quickchartButtonEl.classList.add('colab-df-quickchart-complete');\n",
              "    }\n",
              "    (() => {\n",
              "      let quickchartButtonEl =\n",
              "        document.querySelector('#df-2b79f923-4888-450f-827e-3f243ee3cd8f button');\n",
              "      quickchartButtonEl.style.display =\n",
              "        google.colab.kernel.accessAllowed ? 'block' : 'none';\n",
              "    })();\n",
              "  </script>\n",
              "</div>\n",
              "\n",
              "    </div>\n",
              "  </div>\n"
            ],
            "application/vnd.google.colaboratory.intrinsic+json": {
              "type": "dataframe",
              "summary": "{\n  \"name\": \"tvqa_val\",\n  \"rows\": 3,\n  \"fields\": [\n    {\n      \"column\": \"a0\",\n      \"properties\": {\n        \"dtype\": \"string\",\n        \"num_unique_values\": 3,\n        \"samples\": [\n          \"A Marine.\",\n          \"House went to see Foreman\",\n          \"Phoebe's hair was down.\"\n        ],\n        \"semantic_type\": \"\",\n        \"description\": \"\"\n      }\n    },\n    {\n      \"column\": \"a1\",\n      \"properties\": {\n        \"dtype\": \"string\",\n        \"num_unique_values\": 3,\n        \"samples\": [\n          \"A Stewart.\",\n          \"House went to see WIlson\",\n          \"Phoebe's hair was in a half up do.\"\n        ],\n        \"semantic_type\": \"\",\n        \"description\": \"\"\n      }\n    },\n    {\n      \"column\": \"a2\",\n      \"properties\": {\n        \"dtype\": \"string\",\n        \"num_unique_values\": 3,\n        \"samples\": [\n          \"House\",\n          \"House went to see Cuddy\",\n          \"Phoebe's hair was up in a bun.\"\n        ],\n        \"semantic_type\": \"\",\n        \"description\": \"\"\n      }\n    },\n    {\n      \"column\": \"a3\",\n      \"properties\": {\n        \"dtype\": \"string\",\n        \"num_unique_values\": 3,\n        \"samples\": [\n          \"The teacher.\",\n          \"House went to see Chase \",\n          \"Phoebe's hair was in a single french braid.\"\n        ],\n        \"semantic_type\": \"\",\n        \"description\": \"\"\n      }\n    },\n    {\n      \"column\": \"a4\",\n      \"properties\": {\n        \"dtype\": \"string\",\n        \"num_unique_values\": 3,\n        \"samples\": [\n          \"Wilson\",\n          \"House didn't go to see anyone\",\n          \"Phoebe's hair was up in a hat.\"\n        ],\n        \"semantic_type\": \"\",\n        \"description\": \"\"\n      }\n    },\n    {\n      \"column\": \"answer_idx\",\n      \"properties\": {\n        \"dtype\": \"number\",\n        \"std\": 1,\n        \"min\": 0,\n        \"max\": 2,\n        \"num_unique_values\": 3,\n        \"samples\": [\n          0,\n          2,\n          1\n        ],\n        \"semantic_type\": \"\",\n        \"description\": \"\"\n      }\n    },\n    {\n      \"column\": \"q\",\n      \"properties\": {\n        \"dtype\": \"string\",\n        \"num_unique_values\": 3,\n        \"samples\": [\n          \"Who was sitting in the chair to Mr. Dryden's far left when he was standing?\",\n          \"Where did House go to after he left Lucas on the street walking?\",\n          \"How was Phoebe's hair done when she was sitting with Monica?\"\n        ],\n        \"semantic_type\": \"\",\n        \"description\": \"\"\n      }\n    },\n    {\n      \"column\": \"qid\",\n      \"properties\": {\n        \"dtype\": \"number\",\n        \"std\": 1,\n        \"min\": 122036,\n        \"max\": 122038,\n        \"num_unique_values\": 3,\n        \"samples\": [\n          122036,\n          122037,\n          122038\n        ],\n        \"semantic_type\": \"\",\n        \"description\": \"\"\n      }\n    },\n    {\n      \"column\": \"show_name\",\n      \"properties\": {\n        \"dtype\": \"string\",\n        \"num_unique_values\": 2,\n        \"samples\": [\n          \"Friends\",\n          \"House M.D.\"\n        ],\n        \"semantic_type\": \"\",\n        \"description\": \"\"\n      }\n    },\n    {\n      \"column\": \"ts\",\n      \"properties\": {\n        \"dtype\": \"string\",\n        \"num_unique_values\": 3,\n        \"samples\": [\n          \"0-7.65\",\n          \"55.48-63\"\n        ],\n        \"semantic_type\": \"\",\n        \"description\": \"\"\n      }\n    },\n    {\n      \"column\": \"vid_name\",\n      \"properties\": {\n        \"dtype\": \"string\",\n        \"num_unique_values\": 3,\n        \"samples\": [\n          \"house_s07e13_seg02_clip_07\",\n          \"house_s05e02_seg02_clip_20\"\n        ],\n        \"semantic_type\": \"\",\n        \"description\": \"\"\n      }\n    }\n  ]\n}"
            }
          },
          "metadata": {},
          "execution_count": 1
        }
      ],
      "source": [
        "import pandas as pd\n",
        "\n",
        "# Load the dataset\n",
        "tvqa_val = pd.read_json('tvqa_train.jsonl', lines=True)\n",
        "\n",
        "# Display the first few rows\n",
        "tvqa_val.tail(3)\n"
      ]
    },
    {
      "cell_type": "code",
      "source": [
        "# separate correct ans row\n",
        "# Extract the correct answers based on the answer_idx\n",
        "tvqa_val['correct_answer'] = tvqa_val.apply(lambda row: row[f'a{row.answer_idx}'], axis=1)\n",
        "\n",
        "# Drop the unnecessary columns\n",
        "columns_to_drop = ['a0', 'a1', 'a2', 'a3', 'a4', 'answer_idx']\n",
        "tvqa_val_filtered = tvqa_val.drop(columns=columns_to_drop)\\\n",
        "\n",
        "#sort the dataset based on video_name\n",
        "tvqa_val_filtered.sort_values(by='vid_name')\n",
        "\n",
        "# Display the size of the filtered dataset\n",
        "print(f\"The filtered dataset contains {tvqa_val_filtered.shape[0]} rows and {tvqa_val_filtered.shape[1]} columns.\")"
      ],
      "metadata": {
        "colab": {
          "base_uri": "https://localhost:8080/"
        },
        "id": "C7nUlbFYPJ24",
        "outputId": "98385c56-ff43-4f4c-e5c7-ae416be7cf0a"
      },
      "execution_count": null,
      "outputs": [
        {
          "output_type": "stream",
          "name": "stdout",
          "text": [
            "The filtered dataset contains 122039 rows and 6 columns.\n"
          ]
        }
      ]
    },
    {
      "cell_type": "code",
      "source": [
        "# Filter dataset for show names to create dataframes.\n",
        "friends_df = tvqa_val_filtered[tvqa_val_filtered['show_name'] == 'Friends']\n",
        "castle_df = tvqa_val_filtered[tvqa_val_filtered['show_name'] == 'Castle']\n",
        "greys_anatomy_df = tvqa_val_filtered[tvqa_val_filtered['show_name'] == \"Grey's Anatomy\"]\n",
        "house_md_df = tvqa_val_filtered[tvqa_val_filtered['show_name'] == 'House M.D.']\n",
        "how_i_met_you_mother_df = tvqa_val_filtered[tvqa_val_filtered['show_name'] == 'How I Met You Mother']\n",
        "the_big_bang_theory_df = tvqa_val_filtered[tvqa_val_filtered['show_name'] == 'The Big Bang Theory']"
      ],
      "metadata": {
        "id": "-4Z0JJQiSEmY"
      },
      "execution_count": null,
      "outputs": []
    },
    {
      "cell_type": "code",
      "source": [
        "#for Friends\n",
        "# Extract questions and answers\n",
        "questions = friends_df['q'].tolist()\n",
        "answers = friends_df['correct_answer'].tolist()\n",
        "#Create pairs of Questions Which are from same episode but different clips of Friends.\n",
        "pairs = []\n",
        "for i in range(len(questions)):\n",
        "    if (len(str(answers[i]).split()) == 3):\n",
        "        for j in range(i+1, len(answers)):\n",
        "            if (answers[i] in questions[j] and friends_df.iloc[i]['vid_name'].split('_clip')[0] == friends_df.iloc[j]['vid_name'].split('_clip')[0] and friends_df.iloc[i]['vid_name']!=friends_df.iloc[j]['vid_name'] ):\n",
        "                pairs.append((i,j))\n",
        "print(\"Success\")"
      ],
      "metadata": {
        "id": "-Pof0XP_STa0",
        "colab": {
          "base_uri": "https://localhost:8080/"
        },
        "outputId": "8316da66-450e-4265-b923-bb1963f12cae"
      },
      "execution_count": null,
      "outputs": [
        {
          "output_type": "stream",
          "name": "stdout",
          "text": [
            "Success\n"
          ]
        }
      ]
    },
    {
      "cell_type": "code",
      "source": [
        "import json\n",
        "# Initialize the JSON data structure\n",
        "data = []\n",
        "\n",
        "# Populate the JSON with Q1, A1, Q2, A2 fields using pairs\n",
        "for pair in pairs:\n",
        "    i, j = pair\n",
        "    entry = {\n",
        "        \"Question_1\": questions[i],\n",
        "        \"Answer_1\": answers[i],\n",
        "        \"Question_2\": questions[j],\n",
        "        \"Answer_2\": answers[j],\n",
        "        \"vid_name_1\": friends_df.iloc[i]['vid_name'],\n",
        "        \"vid_name_2\": friends_df.iloc[j]['vid_name']\n",
        "    }\n",
        "    data.append(entry)\n",
        "\n",
        "# Save to a JSON file\n",
        "with open('tvqa_val_pairs.json', 'w') as file:\n",
        "    json.dump(data, file, indent=4)\n",
        "\n",
        "# Print the created JSON structure\n",
        "print(len(data))"
      ],
      "metadata": {
        "id": "Ogm6OncYMXh3",
        "colab": {
          "base_uri": "https://localhost:8080/"
        },
        "outputId": "e95368b3-118f-49c7-aa03-25393dae0836"
      },
      "execution_count": null,
      "outputs": [
        {
          "output_type": "stream",
          "name": "stdout",
          "text": [
            "15688\n"
          ]
        }
      ]
    },
    {
      "cell_type": "code",
      "source": [
        "# Load the JSON data\n",
        "with open('tvqa_val_pairs.json', 'r') as file:\n",
        "    tdata = json.load(file)\n",
        "\n",
        "# Number of rows\n",
        "num_rows = len(tdata)\n",
        "\n",
        "# Print the number of rows\n",
        "print(f\"Number of rows in the JSON file: {num_rows}\")"
      ],
      "metadata": {
        "id": "j7sqAxywVsfD",
        "colab": {
          "base_uri": "https://localhost:8080/"
        },
        "outputId": "7fb74d6a-bd33-4582-b958-36f29ad029fd"
      },
      "execution_count": null,
      "outputs": [
        {
          "output_type": "stream",
          "name": "stdout",
          "text": [
            "Number of rows in the JSON file: 15688\n"
          ]
        }
      ]
    },
    {
      "cell_type": "code",
      "source": [
        "#for Castle\n",
        "# Extract questions and answers\n",
        "questions = castle_df['q'].tolist()\n",
        "answers = castle_df['correct_answer'].tolist()\n",
        "#Create pairs of Questions Which are from same episode but different clips.\n",
        "pairs = []\n",
        "for i in range(len(questions)):\n",
        "    if (len(str(answers[i]).split()) == 1):\n",
        "        for j in range(i+1, len(answers)):\n",
        "            if (answers[i] in questions[j] and castle_df.iloc[i]['vid_name'].split('_clip')[0] == castle_df.iloc[j]['vid_name'].split('_clip')[0] and castle_df.iloc[i]['vid_name']!=castle_df.iloc[j]['vid_name'] ):\n",
        "                pairs.append((i,j))\n",
        "print(\"Success\")"
      ],
      "metadata": {
        "id": "gRxjAVsPT7Y6",
        "colab": {
          "base_uri": "https://localhost:8080/"
        },
        "outputId": "65ad0730-c4f6-413d-ad51-c27566dc317c"
      },
      "execution_count": null,
      "outputs": [
        {
          "output_type": "stream",
          "name": "stdout",
          "text": [
            "Success\n"
          ]
        }
      ]
    },
    {
      "cell_type": "code",
      "source": [
        "\n",
        "# Populate the JSON with Q1, A1, Q2, A2 fields using pairs\n",
        "for pair in pairs:\n",
        "    i, j = pair\n",
        "    entry = {\n",
        "        \"Question_1\": questions[i],\n",
        "        \"Answer_1\": answers[i],\n",
        "        \"Question_2\": questions[j],\n",
        "        \"Answer_2\": answers[j],\n",
        "        \"vid_name_1\": castle_df.iloc[i]['vid_name'],\n",
        "        \"vid_name_2\": castle_df.iloc[j]['vid_name']\n",
        "    }\n",
        "    data.append(entry)\n",
        "\n",
        "# Save to a JSON file\n",
        "with open('tvqa_val_pairs.json', 'w') as file:\n",
        "    json.dump(data, file, indent=4)\n",
        "\n",
        "# Print the created JSON structure\n",
        "print(len(pairs))\n",
        "print(len(data))"
      ],
      "metadata": {
        "id": "8RKaFeFKUb27",
        "colab": {
          "base_uri": "https://localhost:8080/"
        },
        "outputId": "617e7fe4-cede-4378-ada5-8f3576b912a4"
      },
      "execution_count": null,
      "outputs": [
        {
          "output_type": "stream",
          "name": "stdout",
          "text": [
            "14333\n",
            "30021\n"
          ]
        }
      ]
    },
    {
      "cell_type": "code",
      "source": [
        "#for greys_anatomy\n",
        "# Extract questions and answers\n",
        "questions = greys_anatomy_df['q'].tolist()\n",
        "answers = greys_anatomy_df['correct_answer'].tolist()\n",
        "#Create pairs of Questions Which are from same episode but different clips.\n",
        "pairs = []\n",
        "for i in range(len(questions)):\n",
        "    if (len(str(answers[i]).split()) == 1):\n",
        "        for j in range(i+1, len(answers)):\n",
        "            if (answers[i] in questions[j] and greys_anatomy_df.iloc[i]['vid_name'].split('_clip')[0] == greys_anatomy_df.iloc[j]['vid_name'].split('_clip')[0] and greys_anatomy_df.iloc[i]['vid_name']!=greys_anatomy_df.iloc[j]['vid_name'] ):\n",
        "                pairs.append((i,j))\n",
        "print(\"Success\")"
      ],
      "metadata": {
        "id": "M5jlrxsRZtpC",
        "colab": {
          "base_uri": "https://localhost:8080/"
        },
        "outputId": "ba88bd98-ed39-4ad3-902a-8c6b94275ba8"
      },
      "execution_count": null,
      "outputs": [
        {
          "output_type": "stream",
          "name": "stdout",
          "text": [
            "Success\n"
          ]
        }
      ]
    },
    {
      "cell_type": "code",
      "source": [
        "# Populate the JSON with Q1, A1, Q2, A2 fields using pairs\n",
        "for pair in pairs:\n",
        "    i, j = pair\n",
        "    entry = {\n",
        "        \"Question_1\": questions[i],\n",
        "        \"Answer_1\": answers[i],\n",
        "        \"Question_2\": questions[j],\n",
        "        \"Answer_2\": answers[j],\n",
        "        \"vid_name_1\": greys_anatomy_df.iloc[i]['vid_name'],\n",
        "        \"vid_name_2\": greys_anatomy_df.iloc[j]['vid_name']\n",
        "    }\n",
        "    data.append(entry)\n",
        "\n",
        "# Save to a JSON file\n",
        "with open('tvqa_val_pairs.json', 'w') as file:\n",
        "    json.dump(data, file, indent=4)\n",
        "\n",
        "# Print the created JSON structure\n",
        "print(len(pairs))\n",
        "print(len(data))"
      ],
      "metadata": {
        "id": "hIHNLy45Ztfn",
        "colab": {
          "base_uri": "https://localhost:8080/"
        },
        "outputId": "d2fac7b7-4662-441d-c66f-bf244c87d6eb"
      },
      "execution_count": null,
      "outputs": [
        {
          "output_type": "stream",
          "name": "stdout",
          "text": [
            "2689\n",
            "32710\n"
          ]
        }
      ]
    },
    {
      "cell_type": "code",
      "source": [
        "#for house_md\n",
        "# Extract questions and answers\n",
        "questions = house_md_df['q'].tolist()\n",
        "answers = house_md_df['correct_answer'].tolist()\n",
        "#Create pairs of Questions Which are from same episode but different clips.\n",
        "pairs = []\n",
        "for i in range(len(questions)):\n",
        "    if (len(str(answers[i]).split()) == 1):\n",
        "        for j in range(i+1, len(answers)):\n",
        "            if (answers[i] in questions[j] and house_md_df.iloc[i]['vid_name'].split('_clip')[0] == house_md_df.iloc[j]['vid_name'].split('_clip')[0] and house_md_df.iloc[i]['vid_name']!=house_md_df.iloc[j]['vid_name'] ):\n",
        "                pairs.append((i,j))\n",
        "print(\"Success\")"
      ],
      "metadata": {
        "id": "jg1SkxWXZtWE",
        "colab": {
          "base_uri": "https://localhost:8080/"
        },
        "outputId": "82eb9335-d69f-4a73-df47-c325e60d4534"
      },
      "execution_count": null,
      "outputs": [
        {
          "output_type": "stream",
          "name": "stdout",
          "text": [
            "Success\n"
          ]
        }
      ]
    },
    {
      "cell_type": "code",
      "source": [
        "# Populate the JSON with Q1, A1, Q2, A2 fields using pairs\n",
        "for pair in pairs:\n",
        "    i, j = pair\n",
        "    entry = {\n",
        "        \"Question_1\": questions[i],\n",
        "        \"Answer_1\": answers[i],\n",
        "        \"Question_2\": questions[j],\n",
        "        \"Answer_2\": answers[j],\n",
        "        \"vid_name_1\": house_md_df.iloc[i]['vid_name'],\n",
        "        \"vid_name_2\": house_md_df.iloc[j]['vid_name']\n",
        "    }\n",
        "    data.append(entry)\n",
        "\n",
        "# Save to a JSON file\n",
        "with open('tvqa_val_pairs.json', 'w') as file:\n",
        "    json.dump(data, file, indent=4)\n",
        "\n",
        "# Print the created JSON structure\n",
        "print(len(pairs))\n",
        "print(len(data))"
      ],
      "metadata": {
        "id": "6ViFqCO7ZtHu",
        "colab": {
          "base_uri": "https://localhost:8080/"
        },
        "outputId": "46f963ae-a2a2-4aea-d9e3-23796d0a333e"
      },
      "execution_count": null,
      "outputs": [
        {
          "output_type": "stream",
          "name": "stdout",
          "text": [
            "20336\n",
            "53046\n"
          ]
        }
      ]
    },
    {
      "cell_type": "code",
      "source": [
        "#for how_i_met_you_mother\n",
        "# Extract questions and answers\n",
        "questions = how_i_met_you_mother_df['q'].tolist()\n",
        "answers = how_i_met_you_mother_df['correct_answer'].tolist()\n",
        "#Create pairs of Questions Which are from same episode but different clips.\n",
        "pairs = []\n",
        "for i in range(len(questions)):\n",
        "    if (len(str(answers[i]).split()) == 1):\n",
        "        for j in range(i+1, len(answers)):\n",
        "            if (answers[i] in questions[j] and how_i_met_you_mother_df.iloc[i]['vid_name'].split('_clip')[0] == how_i_met_you_mother_df.iloc[j]['vid_name'].split('_clip')[0] and how_i_met_you_mother_df.iloc[i]['vid_name']!=how_i_met_you_mother_df.iloc[j]['vid_name'] ):\n",
        "                pairs.append((i,j))\n",
        "\n",
        "# Populate the JSON with Q1, A1, Q2, A2 fields using pairs\n",
        "for pair in pairs:\n",
        "    i, j = pair\n",
        "    entry = {\n",
        "        \"Question_1\": questions[i],\n",
        "        \"Answer_1\": answers[i],\n",
        "        \"Question_2\": questions[j],\n",
        "        \"Answer_2\": answers[j],\n",
        "        \"vid_name_1\": how_i_met_you_mother_df.iloc[i]['vid_name'],\n",
        "        \"vid_name_2\": how_i_met_you_mother_df.iloc[j]['vid_name']\n",
        "    }\n",
        "    data.append(entry)\n",
        "\n",
        "# Save to a JSON file\n",
        "with open('tvqa_val_pairs.json', 'w') as file:\n",
        "    json.dump(data, file, indent=4)\n",
        "\n",
        "# Print the created JSON structure\n",
        "print(len(pairs))\n",
        "print(len(data))"
      ],
      "metadata": {
        "id": "XOtOQvjKaHfH",
        "colab": {
          "base_uri": "https://localhost:8080/"
        },
        "outputId": "a21f037e-1b23-4197-cf84-3cdcf7f7965c"
      },
      "execution_count": null,
      "outputs": [
        {
          "output_type": "stream",
          "name": "stdout",
          "text": [
            "3245\n",
            "56291\n"
          ]
        }
      ]
    },
    {
      "cell_type": "code",
      "source": [
        "#for the_big_bang_theory\n",
        "# Extract questions and answers\n",
        "questions = the_big_bang_theory_df['q'].tolist()\n",
        "answers = the_big_bang_theory_df['correct_answer'].tolist()\n",
        "#Create pairs of Questions Which are from same episode but different clips.\n",
        "pairs = []\n",
        "for i in range(len(questions)):\n",
        "    if (len(str(answers[i]).split()) == 1):\n",
        "        for j in range(i+1, len(answers)):\n",
        "            if (answers[i] in questions[j] and the_big_bang_theory_df.iloc[i]['vid_name'].split('_clip')[0] == the_big_bang_theory_df.iloc[j]['vid_name'].split('_clip')[0] and the_big_bang_theory_df.iloc[i]['vid_name']!=the_big_bang_theory_df.iloc[j]['vid_name'] ):\n",
        "                pairs.append((i,j))\n",
        "\n",
        "# Populate the JSON with Q1, A1, Q2, A2 fields using pairs\n",
        "for pair in pairs:\n",
        "    i, j = pair\n",
        "    entry = {\n",
        "        \"Question_1\": questions[i],\n",
        "        \"Answer_1\": answers[i],\n",
        "        \"Question_2\": questions[j],\n",
        "        \"Answer_2\": answers[j],\n",
        "        \"vid_name_1\": the_big_bang_theory_df.iloc[i]['vid_name'],\n",
        "        \"vid_name_2\": the_big_bang_theory_df.iloc[j]['vid_name']\n",
        "    }\n",
        "    data.append(entry)\n",
        "\n",
        "# Save to a JSON file\n",
        "with open('tvqa_val_pairs.json', 'w') as file:\n",
        "    json.dump(data, file, indent=4)\n",
        "\n",
        "# Print the created JSON structure\n",
        "print(len(pairs))\n",
        "print(len(data))"
      ],
      "metadata": {
        "id": "KIBrPaOIaHbv",
        "colab": {
          "base_uri": "https://localhost:8080/"
        },
        "outputId": "963f1a3c-b1e9-47a3-edd8-8f2b461adfb5"
      },
      "execution_count": null,
      "outputs": [
        {
          "output_type": "stream",
          "name": "stdout",
          "text": [
            "5177\n",
            "61468\n"
          ]
        }
      ]
    },
    {
      "cell_type": "code",
      "source": [
        "# Load the JSON data\n",
        "with open('tvqa_train_pairs.json', 'r') as file:\n",
        "    tdata = json.load(file)\n",
        "\n",
        "# Number of rows\n",
        "num_rows = len(tdata)\n",
        "\n",
        "# Print the number of rows\n",
        "print(f\"Number of rows in the JSON file: {num_rows}\")"
      ],
      "metadata": {
        "id": "5_DtqGNGaHYt",
        "colab": {
          "base_uri": "https://localhost:8080/"
        },
        "outputId": "0a98ef36-cbf1-43b8-ee49-524d20fff130"
      },
      "execution_count": null,
      "outputs": [
        {
          "output_type": "stream",
          "name": "stdout",
          "text": [
            "Number of rows in the JSON file: 61468\n"
          ]
        }
      ]
    },
    {
      "cell_type": "code",
      "source": [
        "\n",
        "# Download the renamed file\n",
        "files.download('tvqa_train_pairs.json')"
      ],
      "metadata": {
        "id": "G59xmkJmV5h7",
        "outputId": "3c11fe38-e163-4e91-dcc9-a6f07600808a",
        "colab": {
          "base_uri": "https://localhost:8080/",
          "height": 34
        }
      },
      "execution_count": null,
      "outputs": [
        {
          "output_type": "display_data",
          "data": {
            "text/plain": [
              "<IPython.core.display.Javascript object>"
            ],
            "application/javascript": [
              "\n",
              "    async function download(id, filename, size) {\n",
              "      if (!google.colab.kernel.accessAllowed) {\n",
              "        return;\n",
              "      }\n",
              "      const div = document.createElement('div');\n",
              "      const label = document.createElement('label');\n",
              "      label.textContent = `Downloading \"${filename}\": `;\n",
              "      div.appendChild(label);\n",
              "      const progress = document.createElement('progress');\n",
              "      progress.max = size;\n",
              "      div.appendChild(progress);\n",
              "      document.body.appendChild(div);\n",
              "\n",
              "      const buffers = [];\n",
              "      let downloaded = 0;\n",
              "\n",
              "      const channel = await google.colab.kernel.comms.open(id);\n",
              "      // Send a message to notify the kernel that we're ready.\n",
              "      channel.send({})\n",
              "\n",
              "      for await (const message of channel.messages) {\n",
              "        // Send a message to notify the kernel that we're ready.\n",
              "        channel.send({})\n",
              "        if (message.buffers) {\n",
              "          for (const buffer of message.buffers) {\n",
              "            buffers.push(buffer);\n",
              "            downloaded += buffer.byteLength;\n",
              "            progress.value = downloaded;\n",
              "          }\n",
              "        }\n",
              "      }\n",
              "      const blob = new Blob(buffers, {type: 'application/binary'});\n",
              "      const a = document.createElement('a');\n",
              "      a.href = window.URL.createObjectURL(blob);\n",
              "      a.download = filename;\n",
              "      div.appendChild(a);\n",
              "      a.click();\n",
              "      div.remove();\n",
              "    }\n",
              "  "
            ]
          },
          "metadata": {}
        },
        {
          "output_type": "display_data",
          "data": {
            "text/plain": [
              "<IPython.core.display.Javascript object>"
            ],
            "application/javascript": [
              "download(\"download_58612e8c-662f-428c-b5f7-1c7134e10600\", \"tvqa_train_pairs.json\", 24159176)"
            ]
          },
          "metadata": {}
        }
      ]
    },
    {
      "cell_type": "code",
      "source": [],
      "metadata": {
        "id": "tsiiTX-lV5Mr"
      },
      "execution_count": null,
      "outputs": []
    }
  ]
}